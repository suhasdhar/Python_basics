{
 "cells": [
  {
   "cell_type": "code",
   "execution_count": 3,
   "id": "3e81e037",
   "metadata": {},
   "outputs": [],
   "source": [
    "# Name : Suhas Dhar\n",
    "# 700: 700721985"
   ]
  },
  {
   "cell_type": "code",
   "execution_count": null,
   "id": "4c338af0",
   "metadata": {},
   "outputs": [],
   "source": [
    "# Q1\n",
    "# ages = [19, 22, 19, 24, 20, 25, 26, 24, 25, 24]\n",
    "#• Sort the list and find the min and max age\n",
    "#• Add the min age and the max age again to the list\n",
    "#• Find the median age (one middle item or two middle items divided by two)\n",
    "#• Find the average age (sum of all items divided by their number)\n",
    "#• Find the range of the ages (max minus min)"
   ]
  },
  {
   "cell_type": "code",
   "execution_count": 1,
   "id": "60837561",
   "metadata": {},
   "outputs": [
    {
     "name": "stdout",
     "output_type": "stream",
     "text": [
      "ages [19, 19, 20, 22, 24, 24, 24, 25, 25, 26, 19, 26]\n",
      "ages [19, 19, 20, 22, 24, 24, 24, 25, 25, 26]\n",
      "median 24.0\n",
      "average 22.8\n",
      "range 7\n"
     ]
    }
   ],
   "source": [
    "import math\n",
    "ages = [19, 22, 19, 24, 20, 25, 26, 24, 25, 24]\n",
    "# make a deep copy of list and sort inplace\n",
    "ages2= list(ages)\n",
    "ages2.sort()\n",
    "\n",
    "ages2.append(ages2[0])\n",
    "ages2.append(ages2[len(ages2)-2])\n",
    "ages3=list(ages)\n",
    "ages3.sort()\n",
    "\n",
    "median=0\n",
    "if len(ages3)%2 == 0:\n",
    "    median=(ages3[math.floor(len(ages3)/2)]+ages3[math.floor((len(ages3)-1)/2)])/2\n",
    "else: median= ages[len(ages3)/2]    \n",
    "print('ages',ages2)\n",
    "print('ages',ages3)\n",
    "print('median',median)\n",
    "print('average',sum(ages3)/len(ages3))\n",
    "print('range',ages2[len(ages2)-1]-ages2[len(ages2)-2])\n"
   ]
  },
  {
   "cell_type": "code",
   "execution_count": 89,
   "id": "56af649a",
   "metadata": {},
   "outputs": [],
   "source": [
    "# Q2\n",
    "# • Create an empty dictionary called dog\n",
    "# • Add name, color, breed, legs, age to the dog dictionary\n",
    "# • Create a student dictionary and add first_name, last_name, gender, age, marital status,\n",
    "# •skills, country, city and address as keys for the dictionary\n",
    "# • Get the length of the student dictionary\n",
    "# • Get the value of skills and check the data type, it should be a list\n",
    "# • Modify the skills values by adding one or two skills\n",
    "# • Get the dictionary keys as a list\n",
    "#• Get the dictionary values as a list"
   ]
  },
  {
   "cell_type": "code",
   "execution_count": 114,
   "id": "09c952fd",
   "metadata": {},
   "outputs": [
    {
     "name": "stdout",
     "output_type": "stream",
     "text": [
      "dog {'name': '', 'color': '', 'breed': '', 'legs': '', 'age': ''}\n",
      "student {'first_name': '', 'last_name': '', 'gender': '', 'age': '', 'maritial status': '', 'skills': [], 'country': '', 'city': '', 'address': ''}\n",
      "length of student 9\n",
      "skills data type: <class 'list'>\n",
      "dict_keys(['first_name', 'last_name', 'gender', 'age', 'maritial status', 'skills', 'country', 'city', 'address'])\n",
      "dict_values(['', '', '', '', '', ['python'], '', '', ''])\n"
     ]
    }
   ],
   "source": [
    "dog = {}\n",
    "dog.update({\"name\": \"\"})\n",
    "dog.update({\"color\": \"\"})\n",
    "dog.update({\"breed\": \"\"})\n",
    "dog.update({\"legs\": \"\"})\n",
    "dog.update({\"age\": \"\"})\n",
    "print('dog',dog)\n",
    "student={}\n",
    "\n",
    "student.update({\"first_name\": \"\"}) \n",
    "student.update({\"last_name\": \"\"}) \n",
    "student.update({\"gender\": \"\"})\n",
    "student.update({\"age\": \"\"}) \n",
    "student.update({\"maritial status\": \"\"}) \n",
    "student.update({\"skills\": []})\n",
    "student.update({\"country\": \"\"}) \n",
    "student.update({\"city\": \"\"}) \n",
    "student.update({\"address\": \"\"})\n",
    "\n",
    "print('student',student)\n",
    "\n",
    "print('length of student',len(student))\n",
    "print('skills data type:',type((student[\"skills\"])))\n",
    "student[\"skills\"].append(\"python\")\n",
    "print(student.keys())\n",
    "print(student.values())\n"
   ]
  },
  {
   "cell_type": "code",
   "execution_count": null,
   "id": "e0990157",
   "metadata": {},
   "outputs": [],
   "source": [
    "# Q3\n",
    "# • Create a tuple containing names of your sisters and your brothers (imaginary siblings are\n",
    "# fine)\n",
    "# • Join brothers and sisters tuples and assign it to siblings\n",
    "# • How many siblings do you have?\n",
    "# • Modify the siblings tuple and add the name of your father and mother and assign it to\n",
    "# family_members"
   ]
  },
  {
   "cell_type": "code",
   "execution_count": 120,
   "id": "2117d220",
   "metadata": {},
   "outputs": [
    {
     "name": "stdout",
     "output_type": "stream",
     "text": [
      "siblings count 4\n",
      "family members ('Chris', 'molly', 'John', 'Abraham', 'Sydney', 'Beckky')\n"
     ]
    }
   ],
   "source": [
    "brothers = ('John', 'Abraham')\n",
    "sisters  = ('Sydney', 'Beckky')\n",
    "# or using the tuple constructor\n",
    "siblings=brothers+sisters\n",
    "\n",
    "# tuples are immutable so we have to create a new tupple to make changes\n",
    "family_members=('Chris', 'molly')+siblings\n",
    "print(\"siblings count\",len(siblings))   \n",
    "print('family members',family_members)\n"
   ]
  },
  {
   "cell_type": "code",
   "execution_count": null,
   "id": "551ec74e",
   "metadata": {},
   "outputs": [],
   "source": [
    "# Q4\n",
    "# it_companies = {'Facebook', 'Google', 'Microsoft', 'Apple', 'IBM', 'Oracle', 'Amazon'}\n",
    "# A = {19, 22, 24, 20, 25, 26}\n",
    "# B = {19, 22, 20, 25, 26, 24, 28, 27}\n",
    "# age = [22, 19, 24, 25, 26, 24, 25, 24]\n",
    "# • Find the length of the set it_companies\n",
    "# • Add 'Twitter' to it_companies\n",
    "# • Insert multiple IT companies at once to the set it_companies\n",
    "# • Remove one of the companies from the set it_companies\n",
    "# • What is the difference between remove and discard\n",
    "# • Join A and B\n",
    "# • Find A intersection B\n",
    "# • Is A subset of B\n",
    "# • Are A and B disjoint sets\n",
    "# • Join A with B and B with A\n",
    "# • What is the symmetric difference between A and B\n",
    "# • Delete the sets completely\n",
    "# • Convert the ages to a set and compare the length of the list and the set."
   ]
  },
  {
   "cell_type": "code",
   "execution_count": 141,
   "id": "99202e23",
   "metadata": {},
   "outputs": [
    {
     "name": "stdout",
     "output_type": "stream",
     "text": [
      "{19, 20, 22, 24, 25, 26}\n",
      "Is 'A' subset of 'B:  True\n",
      "Are 'A' and 'B' disjoint : False\n",
      "{19, 20, 22, 24, 25, 26, 27, 28}\n",
      "Symmetric difference : {27, 28}\n",
      "age set : {19, 22, 24, 25, 26}\n"
     ]
    }
   ],
   "source": [
    "it_companies = {'Facebook', 'Google', 'Microsoft', 'Apple', 'IBM', 'Oracle', 'Amazon'}\n",
    "A = {19, 22, 24, 20, 25, 26}\n",
    "B = {19, 22, 20, 25, 26, 24, 28, 27}\n",
    "age = [22, 19, 24, 25, 26, 24, 25, 24]\n",
    "\n",
    "it_companies.add('twitter')\n",
    "it_companies.update(['NVDIA','Netflix'])\n",
    "it_companies.remove('IBM')\n",
    "\n",
    "# remove() method will pop an error if the item does not exist, and the discard() method will not.\n",
    "C = A.union(B)\n",
    "\n",
    "print(A.intersection(B))\n",
    "\n",
    "print(\"Is 'A' subset of 'B: \",A.issubset(B))\n",
    "\n",
    "# if intersection of 2 sets is null then the sets are disjoint \n",
    "print(\"Are 'A' and 'B' disjoint :\",not A.intersection(B))\n",
    "print(A.union(B).union(A))\n",
    "print(\"Symmetric difference :\",A.symmetric_difference(B))\n",
    "del A\n",
    "del B\n",
    "age_set=set(age);\n",
    "print('age set :',age_set)\n"
   ]
  },
  {
   "cell_type": "code",
   "execution_count": 163,
   "id": "a1a29f92",
   "metadata": {},
   "outputs": [],
   "source": [
    "#Q5\n",
    "# The radius of a circle is 30 meters.\n",
    "# • Calculate the area of a circle and assign the value to a variable name of _area_of_circle_\n",
    "# • Calculate the circumference of a circle and assign the value to a variable name of\n",
    "# _circum_of_circle_\n",
    "# • Take radius as user input and calculate the area."
   ]
  },
  {
   "cell_type": "code",
   "execution_count": 164,
   "id": "3f933512",
   "metadata": {},
   "outputs": [
    {
     "name": "stdout",
     "output_type": "stream",
     "text": [
      "radius4\n",
      "_circum_of_circle_ : 25.132741228718345\n",
      "_area_of_circle_ : 50.26548245743669\n"
     ]
    }
   ],
   "source": [
    "radius = input('radius')\n",
    "_area_of_circle_ = math.pi* float(radius)*float(radius)\n",
    "_circum_of_circle_= 2*math.pi*(float(radius))\n",
    "print(\"_circum_of_circle_ :\",_circum_of_circle_)\n",
    "print(\"_area_of_circle_ :\",_area_of_circle_)"
   ]
  },
  {
   "cell_type": "code",
   "execution_count": null,
   "id": "3c5f58ef",
   "metadata": {},
   "outputs": [],
   "source": [
    "#Q6\n",
    "# “I am a teacher and I love to inspire and teach people”\n",
    "# • How many unique words have been used in the sentence? Use the split methods and set\n",
    "# to get the unique words."
   ]
  },
  {
   "cell_type": "code",
   "execution_count": 169,
   "id": "a0d6d2d4",
   "metadata": {},
   "outputs": [
    {
     "name": "stdout",
     "output_type": "stream",
     "text": [
      "unique words : 12\n"
     ]
    }
   ],
   "source": [
    "string= \"I am a teacher and I love to inspire and teach people\"\n",
    "a=string.split(' ')\n",
    "print(\"unique words :\",len(a))"
   ]
  },
  {
   "cell_type": "code",
   "execution_count": null,
   "id": "33d9b276",
   "metadata": {},
   "outputs": [],
   "source": [
    "#Q7\n",
    "#  Use a tab escape sequence to get the following lines.\n",
    "#  Name Age Country City\n",
    "#  Asabeneh 250 Finland Helsinki"
   ]
  },
  {
   "cell_type": "code",
   "execution_count": 179,
   "id": "855b34d1",
   "metadata": {},
   "outputs": [
    {
     "name": "stdout",
     "output_type": "stream",
     "text": [
      "Name\t\tAge\tCountry\t\tCity\n",
      "Asabeneh\t250\tFinland\t\tHelsinki\n"
     ]
    }
   ],
   "source": [
    "print('Name\\t\\tAge\\tCountry\\t\\tCity')\n",
    "print('Asabeneh\\t250\\tFinland\\t\\tHelsinki')"
   ]
  },
  {
   "cell_type": "code",
   "execution_count": null,
   "id": "eda7a8a0",
   "metadata": {},
   "outputs": [],
   "source": [
    "#Q8\n",
    "# Use the string formatting method to display the following:\n",
    "# radius = 10\n",
    "# area = 3.14 * radius ** 2\n",
    "# “The area of a circle with radius 10 is 314 meters square.”"
   ]
  },
  {
   "cell_type": "code",
   "execution_count": null,
   "id": "c8412ff2",
   "metadata": {},
   "outputs": [],
   "source": [
    "radius = 10\n",
    "area = 3.14 * radius ** 2\n",
    "\"The area of a circle with radius {radius} is {area} meters square.\".format(radius=radius, area=area)"
   ]
  },
  {
   "cell_type": "code",
   "execution_count": null,
   "id": "14e3f56b",
   "metadata": {},
   "outputs": [],
   "source": [
    "#Q9\n",
    "# Write a program, which reads weights (lbs.) of N students into a list and convert these weights to\n",
    "# kilograms in a separate list using Loop. N: No of students (Read input from user)\n",
    "# Ex: L1: [150, 155, 145, 148]\n",
    "# Output: [68.03, 70.3, 65.77, 67.13]"
   ]
  },
  {
   "cell_type": "code",
   "execution_count": 8,
   "id": "cc2d4ac3",
   "metadata": {},
   "outputs": [
    {
     "name": "stdout",
     "output_type": "stream",
     "text": [
      "number of students:6\n",
      "weights in pounds120\n",
      "weights in pounds253\n",
      "weights in pounds200\n",
      "weights in pounds250\n",
      "weights in pounds209\n",
      "weights in pounds225\n",
      "weight in pounds  [120, 253, 200, 250, 209, 225]\n",
      "weights in KGs [54.4310844, 114.75886961, 90.718474, 113.3980925, 94.80080533, 102.05828325]\n"
     ]
    }
   ],
   "source": [
    "l1=[]\n",
    "l2=[]\n",
    "n=int (input('number of students:'))\n",
    "for i in range(n):\n",
    "    inp=int(input('weights in pounds '))\n",
    "    l1.append(inp)\n",
    "    l2.append(inp *  0.45359237)\n",
    "    \n",
    "print('weight in pounds ',l1)    \n",
    "print('weights in KGs',l2)\n",
    "    \n",
    "    \n"
   ]
  },
  {
   "cell_type": "code",
   "execution_count": null,
   "id": "d8f53595",
   "metadata": {},
   "outputs": [],
   "source": []
  },
  {
   "cell_type": "code",
   "execution_count": null,
   "id": "be0f9795",
   "metadata": {},
   "outputs": [],
   "source": []
  }
 ],
 "metadata": {
  "kernelspec": {
   "display_name": "Python 3 (ipykernel)",
   "language": "python",
   "name": "python3"
  },
  "language_info": {
   "codemirror_mode": {
    "name": "ipython",
    "version": 3
   },
   "file_extension": ".py",
   "mimetype": "text/x-python",
   "name": "python",
   "nbconvert_exporter": "python",
   "pygments_lexer": "ipython3",
   "version": "3.9.7"
  }
 },
 "nbformat": 4,
 "nbformat_minor": 5
}
